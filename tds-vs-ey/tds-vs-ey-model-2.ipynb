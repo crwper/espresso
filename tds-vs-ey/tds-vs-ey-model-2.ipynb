{
 "cells": [
  {
   "cell_type": "code",
   "execution_count": 1,
   "id": "a2ae2021",
   "metadata": {},
   "outputs": [],
   "source": [
    "import numpy as np\n",
    "import pandas as pd\n",
    "import matplotlib.pyplot as plt\n",
    "from scipy.integrate import odeint"
   ]
  },
  {
   "cell_type": "code",
   "execution_count": 2,
   "id": "e0388c41",
   "metadata": {},
   "outputs": [
    {
     "data": {
      "text/html": [
       "\n",
       "<style>\n",
       ".output_png {\n",
       "    display: table-cell;\n",
       "    text-align: center;\n",
       "    vertical-align: middle;\n",
       "}\n",
       "</style>\n"
      ],
      "text/plain": [
       "<IPython.core.display.HTML object>"
      ]
     },
     "execution_count": 2,
     "metadata": {},
     "output_type": "execute_result"
    }
   ],
   "source": [
    "from IPython.core.display import HTML\n",
    "\n",
    "# Center plots\n",
    "HTML(\"\"\"\n",
    "<style>\n",
    ".output_png {\n",
    "    display: table-cell;\n",
    "    text-align: center;\n",
    "    vertical-align: middle;\n",
    "}\n",
    "</style>\n",
    "\"\"\")"
   ]
  },
  {
   "cell_type": "markdown",
   "id": "91f980e0",
   "metadata": {},
   "source": [
    "Here, we will try to reproduce the work of Moroney et al, 2019<sup>[1]</sup>. We will use the `scipy.integrate` module to sove the differential equations<sup>[2]</sup>."
   ]
  },
  {
   "cell_type": "markdown",
   "id": "005ac431",
   "metadata": {},
   "source": [
    "We start with the differential equations from Moroney's paper:\n",
    "\n",
    "$$\n",
    "\\frac{\\partial c_l}{\\partial t} + v_l \\frac{\\partial c_l}{\\partial z} = \\frac{6 D_v \\alpha_{s1}}{\\alpha_l d_{s1}^2} (c_{s1} - c_l) + \\frac{6 D_v \\alpha_{s2}}{\\alpha_l d_{s2}^2} (c_{s2} - c_l), \\\\\n",
    "\\frac{\\partial c_{s1}}{\\partial t} = -\\frac{6 D_v}{\\phi_{v1} d_{s1}^2} (c_{s1} - c_l), \\\\\n",
    "\\frac{\\partial c_{s2}}{\\partial t} = -\\frac{6 D_v}{\\phi_{v2} d_{s2}^2} (c_{s2} - c_l)\n",
    "$$\n",
    "\n",
    "We will use the method of lines, with these equations discretized in $z$. We have the following boundary conditions, adapted from those given in the paper:\n",
    "\n",
    "$$\n",
    "c_l(-1, t) = 0\\;\\;\\;\\;c_l(z, 0) = 0\\;\\;\\;\\;c_s(z, 0) = c_{s0}\n",
    "$$\n",
    "\n",
    "Here, we have moved the top boundary condition above the packed bed, rather than setting concentration in the liquid to zero for the first row of the model. This allows us to model extraction through the entire bed.\n",
    "\n",
    "Moroney uses backward finite difference to discretize. This gives us two different update steps for $c_l$:\n",
    "\n",
    "$$\n",
    "\\frac{\\partial c_{l,0}}{\\partial t} = -v_l \\frac{c_{l,0}}{\\Delta z} + \\frac{6 D_v \\alpha_{s1}}{\\alpha_l d_{s1}^2} (c_{s1,0} - c_{l,0}) + \\frac{6 D_v \\alpha_{s2}}{\\alpha_l d_{s2}^2} (c_{s2,0} - c_{l,0}), \\\\\n",
    "\\frac{\\partial c_{l,n}}{\\partial t} = -v_l \\frac{c_{l,n} - c_{l,n-1}}{\\Delta z} + \\frac{6 D_v \\alpha_{s1}}{\\alpha_l d_{s1}^2} (c_{s1,n} - c_{l,n}) + \\frac{6 D_v \\alpha_{s2}}{\\alpha_l d_{s2}^2} (c_{s2,n} - c_{l,n})\n",
    "$$\n",
    "\n",
    "and one update step for $c_{s1}$ and $c_{s2}$:\n",
    "\n",
    "$$\n",
    "\\frac{\\partial c_{s1,n}}{\\partial t} = -\\frac{6 D_v}{\\phi_{v1} d_{s1}^2} (c_{s1,n} - c_{l,n}), \\\\\n",
    "\\frac{\\partial c_{s2,n}}{\\partial t} = -\\frac{6 D_v}{\\phi_{v2} d_{s2}^2} (c_{s2,n} - c_{l,n})\n",
    "$$\n",
    "\n",
    "Now we need to combine $c_l$, $c_{s1}$, and $c_{s2}$ into a single array. As suggested in the SciPy documentation, it is best to interleave them as:\n",
    "\n",
    "$$\n",
    "\\{c_{l,0}, c_{s1,0}, c_{s2,0}, c_{l,1}, c_{s1,1}, c_{s2,1}, \\ldots, c_{l,N-1}, c_{s1,N-1}, c_{s2,N-1}\\}\n",
    "$$\n",
    "\n",
    "This gives a Jacobian of the form:\n",
    "\n",
    "$$\n",
    "\\begin{matrix}\n",
    "* & * & * & 0 & 0 & 0 & 0 & 0 & 0 \\\\\n",
    "* & * & 0 & 0 & 0 & 0 & 0 & 0 & 0 \\\\\n",
    "* & 0 & * & 0 & 0 & 0 & 0 & 0 & 0 \\\\\n",
    "* & 0 & 0 & * & * & * & 0 & 0 & 0 \\\\\n",
    "0 & 0 & 0 & * & * & 0 & 0 & 0 & 0 \\\\\n",
    "0 & 0 & 0 & * & 0 & * & 0 & 0 & 0 \\\\\n",
    "0 & 0 & 0 & * & 0 & 0 & * & * & * \\\\\n",
    "0 & 0 & 0 & 0 & 0 & 0 & * & * & 0 \\\\\n",
    "0 & 0 & 0 & 0 & 0 & 0 & * & 0 & * \\\\\n",
    "0 & 0 & 0 & 0 & 0 & 0 & * & 0 & 0 \\\\\n",
    "0 & 0 & 0 & 0 & 0 & 0 & 0 & 0 & 0 \\\\\n",
    "0 & 0 & 0 & 0 & 0 & 0 & 0 & 0 & 0 \\\\\n",
    "\\end{matrix}\n",
    "$$\n",
    "\n",
    "This is a banded Jacobian with `mu=2` and `ml=3` in the call to `odeint`."
   ]
  },
  {
   "cell_type": "markdown",
   "id": "7073443f",
   "metadata": {},
   "source": [
    "Now we define functions for the diffusion terms:"
   ]
  },
  {
   "cell_type": "code",
   "execution_count": 3,
   "id": "734e407e",
   "metadata": {},
   "outputs": [],
   "source": [
    "def G(D_v, a_s, a_l, d_s, c_s, c_l):\n",
    "    return (6. * D_v * a_s) / (a_l * d_s**2) * (c_s - c_l)\n",
    "\n",
    "def H(D_v, phi_v, d_s, c_s, c_l):\n",
    "    return (6. * D_v) / (phi_v * d_s**2) * (c_s - c_l)"
   ]
  },
  {
   "cell_type": "markdown",
   "id": "418b6af2",
   "metadata": {},
   "source": [
    "Now we define the function that computes the update step:"
   ]
  },
  {
   "cell_type": "code",
   "execution_count": 4,
   "id": "d4650b54",
   "metadata": {},
   "outputs": [],
   "source": [
    "def update(y, t, v_l, dz, D_v1, D_v2, a_s1, a_l, d_s1, a_s2, d_s2, phi_v1, phi_v2):\n",
    "    # Parse the interleaved data\n",
    "    c_l = y[::3]\n",
    "    c_s1 = y[1::3]\n",
    "    c_s2 = y[2::3]\n",
    "    \n",
    "    # Initialize the return value\n",
    "    dy_dt = np.empty_like(y)\n",
    "    \n",
    "    # Interleaved views of the return value\n",
    "    dcl_dt = dy_dt[::3]\n",
    "    dcs1_dt = dy_dt[1::3]\n",
    "    dcs2_dt = dy_dt[2::3]\n",
    "    \n",
    "    # Compute derivatives\n",
    "    dcl_dt[0] = -v_l * c_l[0] / dz + \\\n",
    "        G(D_v1, a_s1, a_l, d_s1, c_s1[0], c_l[0]) + \\\n",
    "        G(D_v2, a_s2, a_l, d_s2, c_s2[0], c_l[0])\n",
    "    dcl_dt[1:] = -v_l * (c_l[1:] - c_l[:-1]) / dz + \\\n",
    "        G(D_v1, a_s1, a_l, d_s1, c_s1[1:], c_l[1:]) + \\\n",
    "        G(D_v2, a_s2, a_l, d_s2, c_s2[1:], c_l[1:])\n",
    "\n",
    "    dcs1_dt[:] = -H(D_v1, phi_v1, d_s1, c_s1, c_l)\n",
    "    dcs2_dt[:] = -H(D_v2, phi_v2, d_s2, c_s2, c_l)\n",
    "    \n",
    "    return dy_dt"
   ]
  },
  {
   "cell_type": "markdown",
   "id": "4076171e",
   "metadata": {},
   "source": [
    "Now we define some constants:"
   ]
  },
  {
   "cell_type": "code",
   "execution_count": 5,
   "id": "16ae0e05",
   "metadata": {},
   "outputs": [],
   "source": [
    "# Constants\n",
    "a_l = 0.2\n",
    "a_s1 = 0.5\n",
    "a_s2 = 0.3\n",
    "\n",
    "Q = 250. / (1e2)**3 / 60.\n",
    "A = np.pi * (59e-3 / 2)**2\n",
    "v_l = Q / (a_l * A)\n",
    "\n",
    "L = 0.0405\n",
    "N = 100\n",
    "dz = L / N\n",
    "\n",
    "d_s1 = 2.517e-5\n",
    "d_s2 = 5.63e-4\n",
    "\n",
    "h_sl1 = 5.1207e-4\n",
    "h_sl2 = 1.43e-3\n",
    "\n",
    "#D_v1 = d_s1 * h_sl1\n",
    "#D_v2 = d_s2 * h_sl2\n",
    "\n",
    "D_v1 = 2e-11 # TO DO: Replace this with the correct value\n",
    "D_v2 = D_v1\n",
    "\n",
    "phi_v1 = 0.56\n",
    "phi_v2 = 0.56\n",
    "\n",
    "c_s = 358.587\n",
    "\n",
    "# Initial values\n",
    "cl_0 = np.array([0.] * N)\n",
    "cs1_0 = np.array([c_s] * N)\n",
    "cs2_0 = np.array([c_s] * N)\n",
    "\n",
    "y0 = np.empty(3 * N)\n",
    "y0[::3] = cl_0\n",
    "y0[1::3] = cs1_0\n",
    "y0[2::3] = cs2_0\n",
    "\n",
    "# Time\n",
    "dt = 1e-3\n",
    "num_t = 200*1000\n",
    "t = np.linspace(0., num_t * dt, num_t)"
   ]
  },
  {
   "cell_type": "markdown",
   "id": "b10b7747",
   "metadata": {},
   "source": [
    "And finally we run `odeint`:"
   ]
  },
  {
   "cell_type": "code",
   "execution_count": 6,
   "id": "e6d72308",
   "metadata": {},
   "outputs": [
    {
     "data": {
      "text/plain": [
       "array([[0.00000000e+00, 3.58587000e+02, 3.58587000e+02, ...,\n",
       "        0.00000000e+00, 3.58587000e+02, 3.58587000e+02],\n",
       "       [1.68351312e-01, 3.58465759e+02, 3.58586758e+02, ...,\n",
       "        1.69940050e-01, 3.58465760e+02, 3.58586758e+02],\n",
       "       [3.33429514e-01, 3.58344616e+02, 3.58586515e+02, ...,\n",
       "        3.39742173e-01, 3.58344618e+02, 3.58586515e+02],\n",
       "       ...,\n",
       "       [9.45515010e-03, 9.47408547e-03, 3.13255107e+02, ...,\n",
       "        9.50699494e-01, 9.52600564e-01, 3.14945733e+02],\n",
       "       [9.45514370e-03, 9.47407906e-03, 3.13254896e+02, ...,\n",
       "        9.50698853e-01, 9.52599921e-01, 3.14945521e+02],\n",
       "       [9.45513731e-03, 9.47407266e-03, 3.13254684e+02, ...,\n",
       "        9.50698211e-01, 9.52599278e-01, 3.14945309e+02]])"
      ]
     },
     "execution_count": 6,
     "metadata": {},
     "output_type": "execute_result"
    }
   ],
   "source": [
    "sol = odeint(update, y0, t, args=(v_l, dz, D_v1, D_v2, a_s1, a_l, d_s1, a_s2, d_s2, phi_v1, phi_v2), ml=3, mu=2)\n",
    "sol"
   ]
  },
  {
   "cell_type": "markdown",
   "id": "319aa1c3",
   "metadata": {},
   "source": [
    "Let's plot the results."
   ]
  },
  {
   "cell_type": "code",
   "execution_count": 7,
   "id": "1472201b",
   "metadata": {},
   "outputs": [
    {
     "data": {
      "text/plain": [
       "<matplotlib.legend.Legend at 0x29e5e74fb50>"
      ]
     },
     "execution_count": 7,
     "metadata": {},
     "output_type": "execute_result"
    },
    {
     "data": {
      "image/png": "[encoded data removed]",
      "text/plain": [
       "<Figure size 1080x648 with 1 Axes>"
      ]
     },
     "metadata": {
      "needs_background": "light"
     },
     "output_type": "display_data"
    }
   ],
   "source": [
    "# Get values at the outlet\n",
    "c_l = sol[:,-3]\n",
    "c_s1 = sol[:,-2]\n",
    "c_s2 = sol[:,-1]\n",
    "\n",
    "# Plot the values\n",
    "fig, ax = plt.subplots(figsize=(15,9))\n",
    "ax.plot(t, c_l, label='Water')\n",
    "ax.plot(t, c_s1, '--', label='Fines')\n",
    "ax.plot(t, c_s2, '--', label='Boulders')\n",
    "\n",
    "# Label the axes\n",
    "ax.set_xlabel('Time (s)')\n",
    "ax.set_ylabel('Concentration of Soluble Coffee (kg/m^3)')\n",
    "\n",
    "# Add a legend\n",
    "plt.legend()"
   ]
  },
  {
   "cell_type": "markdown",
   "id": "b3046b48",
   "metadata": {},
   "source": [
    "# References\n",
    "\n",
    "[1] Moroney et al., 2019 \\\n",
    "[2] https://docs.scipy.org/doc/scipy/reference/tutorial/integrate.html#solving-a-system-with-a-banded-jacobian-matrix"
   ]
  }
 ],
 "metadata": {
  "kernelspec": {
   "display_name": "Python 3",
   "language": "python",
   "name": "python3"
  },
  "language_info": {
   "codemirror_mode": {
    "name": "ipython",
    "version": 3
   },
   "file_extension": ".py",
   "mimetype": "text/x-python",
   "name": "python",
   "nbconvert_exporter": "python",
   "pygments_lexer": "ipython3",
   "version": "3.9.5"
  }
 },
 "nbformat": 4,
 "nbformat_minor": 5
}
