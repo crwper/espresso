{
 "cells": [
  {
   "cell_type": "code",
   "execution_count": 1,
   "id": "9798b9ce",
   "metadata": {},
   "outputs": [],
   "source": [
    "import numpy as np\n",
    "import pandas as pd\n",
    "import matplotlib.pyplot as plt\n",
    "from scipy.integrate import odeint"
   ]
  },
  {
   "cell_type": "code",
   "execution_count": 2,
   "id": "c7dca21e",
   "metadata": {},
   "outputs": [
    {
     "data": {
      "text/html": [
       "\n",
       "<style>\n",
       ".output_png {\n",
       "    display: table-cell;\n",
       "    text-align: center;\n",
       "    vertical-align: middle;\n",
       "}\n",
       "</style>\n"
      ],
      "text/plain": [
       "<IPython.core.display.HTML object>"
      ]
     },
     "execution_count": 2,
     "metadata": {},
     "output_type": "execute_result"
    }
   ],
   "source": [
    "from IPython.core.display import HTML\n",
    "\n",
    "# Center plots\n",
    "HTML(\"\"\"\n",
    "<style>\n",
    ".output_png {\n",
    "    display: table-cell;\n",
    "    text-align: center;\n",
    "    vertical-align: middle;\n",
    "}\n",
    "</style>\n",
    "\"\"\")"
   ]
  },
  {
   "cell_type": "markdown",
   "id": "1ac7e1d6",
   "metadata": {},
   "source": [
    "# Steady State Initial Conditions\n",
    "\n",
    "One of the issues with the 1-D model of Maroney et al., 2019<sup>[1]</sup>, is that it assumes the puck is initially wet, but no coffee has been dissolved into the liquid. This gives initially low concentration of dissolved coffee in the liquid at the outlet.\n",
    "\n",
    "Instead, consider how water travels through the puck in an espresso machine, with the puck initially dry, and a \"front\" of water moving through it. Dissolved solids are pushed toward the outlet, and when the front reaches the outlet we have a nearly stedy state. If the coffee grains are considered as infinite reservoirs of dissolved coffee, we can solve for this steady state.\n",
    "\n",
    "We start with this equation from Maroney et al.:\n",
    "\n",
    "$$\n",
    "\\frac{\\partial c_l}{\\partial t} + v_l \\frac{\\partial c_l}{\\partial z} = \\frac{6 D_{v1} \\alpha_{s1}}{\\alpha_l d_{s1}^2} (c_{s1} - c_l) + \\frac{6 D_{v2} \\alpha_{s2}}{\\alpha_l d_{s2}^2} (c_{s2} - c_l)\n",
    "$$\n",
    "\n",
    "Now set $\\partial c_l / \\partial t = 0$ to get the steady state:\n",
    "\n",
    "$$\n",
    "v_l \\frac{\\partial c_l}{\\partial z} = \\frac{6 D_{v1} \\alpha_{s1}}{\\alpha_l d_{s1}^2} (c_{s1} - c_l) + \\frac{6 D_{v2} \\alpha_{s2}}{\\alpha_l d_{s2}^2} (c_{s2} - c_l)\n",
    "$$\n",
    "\n",
    "If we let:\n",
    "\n",
    "$$\n",
    "A_i = \\frac{6 D_{vi} \\alpha_{si}}{\\alpha_l d_{si}^2}\n",
    "$$\n",
    "\n",
    "Then this becomes:\n",
    "\n",
    "$$\n",
    "\\begin{align}\n",
    "\\frac{\\partial c_l}{\\partial z} & = \\frac{1}{v_l} \\left[ A_1(c_{s1} - c_l) + A_2(c_{s2} - c_l) \\right] \\\\\n",
    "& = \\frac{1}{v_l} \\left[ A_1 c_{s1} + A_2 c_{s2} - (A_1 + A_2) c_l \\right]\n",
    "\\end{align}\n",
    "$$\n",
    "\n",
    "This has the solution:\n",
    "\n",
    "$$\n",
    "c_l(z) = C e^{-\\frac{A_1 + A_2}{v_l} z} + \\frac{A_1 c_{s1} + A_2 c_{s2}}{A_1 + A_2}\n",
    "$$\n",
    "\n",
    "We want $c_l(0) = 0$, so:\n",
    "\n",
    "$$\n",
    "C + \\frac{A_1 c_{s1} + A_2 c_{s2}}{A_1 + A_2} = 0 \\Rightarrow C = -\\frac{A_1 c_{s1} + A_2 c_{s2}}{A_1 + A_2}\n",
    "$$\n",
    "\n",
    "And so finally:\n",
    "\n",
    "$$\n",
    "c_l(z) = \\frac{A_1 c_{s1} + A_2 c_{s2}}{A_1 + A_2} (1 - e^{-\\frac{A_1 + A_2}{v_l} z})\n",
    "$$\n"
   ]
  },
  {
   "cell_type": "markdown",
   "id": "de6bdf06",
   "metadata": {},
   "source": [
    "# Modelling\n",
    "\n",
    "Let's try modelling with these initial conditions. First we define the diffusion terms:"
   ]
  },
  {
   "cell_type": "code",
   "execution_count": 3,
   "id": "69dfcb62",
   "metadata": {},
   "outputs": [],
   "source": [
    "def Ai(D_v, a_s, a_l, d_s):\n",
    "    return (6. * D_v * a_s) / (a_l * d_s**2)\n",
    "\n",
    "def G(D_v, a_s, a_l, d_s, c_s, c_l):\n",
    "    return Ai(D_v, a_s, a_l, d_s) * (c_s - c_l)\n",
    "\n",
    "def H(D_v, phi_v, d_s, c_s, c_l):\n",
    "    return (6. * D_v) / (phi_v * d_s**2) * (c_s - c_l)"
   ]
  },
  {
   "cell_type": "markdown",
   "id": "3f44e408",
   "metadata": {},
   "source": [
    "Now the update step:"
   ]
  },
  {
   "cell_type": "code",
   "execution_count": 4,
   "id": "3b46fe18",
   "metadata": {},
   "outputs": [],
   "source": [
    "def update(y, t, v_l, dz, D_v1, D_v2, a_s1, a_l, d_s1, a_s2, d_s2, phi_v1, phi_v2):\n",
    "    # Parse the interleaved data\n",
    "    c_l = y[::3]\n",
    "    c_s1 = y[1::3]\n",
    "    c_s2 = y[2::3]\n",
    "    \n",
    "    # Initialize the return value\n",
    "    dy_dt = np.empty_like(y)\n",
    "    \n",
    "    # Interleaved views of the return value\n",
    "    dcl_dt = dy_dt[::3]\n",
    "    dcs1_dt = dy_dt[1::3]\n",
    "    dcs2_dt = dy_dt[2::3]\n",
    "    \n",
    "    # Compute derivatives\n",
    "    dcl_dt[0] = -v_l * c_l[0] / dz + \\\n",
    "        G(D_v1, a_s1, a_l, d_s1, c_s1[0], c_l[0]) + \\\n",
    "        G(D_v2, a_s2, a_l, d_s2, c_s2[0], c_l[0])\n",
    "    dcl_dt[1:] = -v_l * (c_l[1:] - c_l[:-1]) / dz + \\\n",
    "        G(D_v1, a_s1, a_l, d_s1, c_s1[1:], c_l[1:]) + \\\n",
    "        G(D_v2, a_s2, a_l, d_s2, c_s2[1:], c_l[1:])\n",
    "\n",
    "    dcs1_dt[:] = -H(D_v1, phi_v1, d_s1, c_s1, c_l)\n",
    "    dcs2_dt[:] = -H(D_v2, phi_v2, d_s2, c_s2, c_l)\n",
    "    \n",
    "    return dy_dt"
   ]
  },
  {
   "cell_type": "markdown",
   "id": "c80590c1",
   "metadata": {},
   "source": [
    "And now the constants:"
   ]
  },
  {
   "cell_type": "code",
   "execution_count": 5,
   "id": "993a50ea",
   "metadata": {},
   "outputs": [],
   "source": [
    "# Constants\n",
    "a_l = 0.2\n",
    "a_s1 = 0.5\n",
    "a_s2 = 0.3\n",
    "\n",
    "Q = 250. / (1e2)**3 / 60.\n",
    "A = np.pi * (59e-3 / 2)**2\n",
    "v_l = Q / (a_l * A)\n",
    "\n",
    "L = 0.0405\n",
    "N = 100\n",
    "dz = L / N\n",
    "\n",
    "d_s1 = 2.517e-5\n",
    "d_s2 = 5.63e-4\n",
    "\n",
    "rho_l = 965.3\n",
    "h_sl1 = 5.1207e-4 / rho_l\n",
    "h_sl2 = 1.43e-3 / rho_l\n",
    "\n",
    "D_v1 = d_s1 * h_sl1\n",
    "D_v2 = d_s2 * h_sl2\n",
    "\n",
    "phi_v1 = 0.56\n",
    "phi_v2 = 0.56\n",
    "\n",
    "c_s = 358.587\n",
    "\n",
    "# Simulation time\n",
    "dt = 0.05\n",
    "num_t = 250*20\n",
    "t = np.linspace(0., num_t * dt, num_t)"
   ]
  },
  {
   "cell_type": "markdown",
   "id": "c1e5f959",
   "metadata": {},
   "source": [
    "And initial values:"
   ]
  },
  {
   "cell_type": "code",
   "execution_count": 6,
   "id": "fa3e75db",
   "metadata": {},
   "outputs": [],
   "source": [
    "# Initial values\n",
    "zs = np.linspace(0., L, N)\n",
    "A1 = Ai(D_v1, a_s1, a_l, d_s1)\n",
    "A2 = Ai(D_v2, a_s2, a_l, d_s2)\n",
    "\n",
    "cl_0 = (A1 * c_s + A2 * c_s) / (A1 + A2) * (1 - np.exp(-(A1 + A2) / v_l * zs))\n",
    "cs1_0 = np.array([c_s] * N)\n",
    "cs2_0 = np.array([c_s] * N)\n",
    "\n",
    "y0 = np.empty(3 * N)\n",
    "y0[::3] = cl_0\n",
    "y0[1::3] = cs1_0\n",
    "y0[2::3] = cs2_0"
   ]
  },
  {
   "cell_type": "markdown",
   "id": "167a8584",
   "metadata": {},
   "source": [
    "And now we run `odeint`:"
   ]
  },
  {
   "cell_type": "code",
   "execution_count": 7,
   "id": "ba338647",
   "metadata": {},
   "outputs": [
    {
     "data": {
      "text/plain": [
       "array([[0.00000000e+00, 3.58587000e+02, 3.58587000e+02, ...,\n",
       "        2.99672228e+02, 3.58587000e+02, 3.58587000e+02],\n",
       "       [3.89685317e+00, 3.54585727e+02, 3.58084973e+02, ...,\n",
       "        2.99647540e+02, 3.57925297e+02, 3.58503979e+02],\n",
       "       [5.35137130e+00, 3.50657248e+02, 3.57587151e+02, ...,\n",
       "        2.99612339e+02, 3.57270689e+02, 3.58421033e+02],\n",
       "       ...,\n",
       "       [3.98874686e-04, 4.55695561e-04, 3.16077928e-01, ...,\n",
       "        7.78006556e-02, 8.81944289e-02, 8.63308235e-01],\n",
       "       [3.98313421e-04, 4.55054343e-04, 3.15633169e-01, ...,\n",
       "        7.76971680e-02, 8.80771315e-02, 8.62201463e-01],\n",
       "       [3.97752946e-04, 4.54414026e-04, 3.15189035e-01, ...,\n",
       "        7.75938178e-02, 8.79599899e-02, 8.61096104e-01]])"
      ]
     },
     "execution_count": 7,
     "metadata": {},
     "output_type": "execute_result"
    }
   ],
   "source": [
    "sol = odeint(update, y0, t, args=(v_l, dz, D_v1, D_v2, a_s1, a_l, d_s1, a_s2, d_s2, phi_v1, phi_v2), ml=3, mu=2)\n",
    "sol"
   ]
  },
  {
   "cell_type": "markdown",
   "id": "6d7f27cc",
   "metadata": {},
   "source": [
    "Let's load the experimental results for plotting:"
   ]
  },
  {
   "cell_type": "code",
   "execution_count": 8,
   "id": "a230e4de",
   "metadata": {},
   "outputs": [
    {
     "data": {
      "text/html": [
       "<div>\n",
       "<style scoped>\n",
       "    .dataframe tbody tr th:only-of-type {\n",
       "        vertical-align: middle;\n",
       "    }\n",
       "\n",
       "    .dataframe tbody tr th {\n",
       "        vertical-align: top;\n",
       "    }\n",
       "\n",
       "    .dataframe thead th {\n",
       "        text-align: right;\n",
       "    }\n",
       "</style>\n",
       "<table border=\"1\" class=\"dataframe\">\n",
       "  <thead>\n",
       "    <tr style=\"text-align: right;\">\n",
       "      <th></th>\n",
       "      <th>x</th>\n",
       "      <th>y</th>\n",
       "    </tr>\n",
       "  </thead>\n",
       "  <tbody>\n",
       "    <tr>\n",
       "      <th>0</th>\n",
       "      <td>4.975124</td>\n",
       "      <td>211.842105</td>\n",
       "    </tr>\n",
       "    <tr>\n",
       "      <th>1</th>\n",
       "      <td>11.940299</td>\n",
       "      <td>150.000000</td>\n",
       "    </tr>\n",
       "    <tr>\n",
       "      <th>2</th>\n",
       "      <td>18.905473</td>\n",
       "      <td>76.315789</td>\n",
       "    </tr>\n",
       "    <tr>\n",
       "      <th>3</th>\n",
       "      <td>24.875622</td>\n",
       "      <td>43.421053</td>\n",
       "    </tr>\n",
       "    <tr>\n",
       "      <th>4</th>\n",
       "      <td>32.835821</td>\n",
       "      <td>27.631579</td>\n",
       "    </tr>\n",
       "  </tbody>\n",
       "</table>\n",
       "</div>"
      ],
      "text/plain": [
       "           x           y\n",
       "0   4.975124  211.842105\n",
       "1  11.940299  150.000000\n",
       "2  18.905473   76.315789\n",
       "3  24.875622   43.421053\n",
       "4  32.835821   27.631579"
      ]
     },
     "execution_count": 8,
     "metadata": {},
     "output_type": "execute_result"
    }
   ],
   "source": [
    "expt = pd.read_csv('fine_expt_data.csv', header=None, names=['x', 'y'])\n",
    "expt.head()"
   ]
  },
  {
   "cell_type": "markdown",
   "id": "f5b4c219",
   "metadata": {},
   "source": [
    "And plot the results:"
   ]
  },
  {
   "cell_type": "code",
   "execution_count": 9,
   "id": "e9333ebc",
   "metadata": {},
   "outputs": [
    {
     "data": {
      "text/plain": [
       "<matplotlib.legend.Legend at 0x260f429ab50>"
      ]
     },
     "execution_count": 9,
     "metadata": {},
     "output_type": "execute_result"
    },
    {
     "data": {
      "image/png": "[encoded data removed]",
      "text/plain": [
       "<Figure size 1080x648 with 1 Axes>"
      ]
     },
     "metadata": {
      "needs_background": "light"
     },
     "output_type": "display_data"
    }
   ],
   "source": [
    "# Get values at the outlet\n",
    "c_l = sol[:,-3]\n",
    "c_s1 = sol[:,-2]\n",
    "c_s2 = sol[:,-1]\n",
    "\n",
    "# Plot the values\n",
    "fig, ax = plt.subplots(figsize=(15,9))\n",
    "ax.plot(t, c_l, label='Water')\n",
    "ax.plot(t, c_s1, '--', label='Fines')\n",
    "ax.plot(t, c_s2, '--', label='Boulders')\n",
    "\n",
    "# Plot the experimental data\n",
    "ax.scatter(expt['x'], expt['y'], label='Experiment')\n",
    "\n",
    "# Label the axes\n",
    "ax.set_xlabel('Time (s)')\n",
    "ax.set_ylabel('Concentration of Soluble Coffee (kg/m^3)')\n",
    "\n",
    "# Add a legend\n",
    "plt.legend()"
   ]
  },
  {
   "cell_type": "markdown",
   "id": "d72f4e2b",
   "metadata": {},
   "source": [
    "# Plotting TDS vs. EY\n",
    "\n",
    "Now we integrate to get the mass of solubles and liquid at the output:"
   ]
  },
  {
   "cell_type": "code",
   "execution_count": 10,
   "id": "2defe328",
   "metadata": {},
   "outputs": [],
   "source": [
    "in_s = 0.06\n",
    "out_s = np.cumsum(Q * (c_l[1:] + c_l[:-1]) / 2. * dt)\n",
    "out_l = Q * 1e3 * t[1:]"
   ]
  },
  {
   "cell_type": "markdown",
   "id": "bb390476",
   "metadata": {},
   "source": [
    "Then we can plot TDS vs. EY:"
   ]
  },
  {
   "cell_type": "code",
   "execution_count": 11,
   "id": "6b8c9e45",
   "metadata": {},
   "outputs": [
    {
     "data": {
      "text/plain": [
       "Text(0, 0.5, 'Total Dissolved Solids (mg/ml)')"
      ]
     },
     "execution_count": 11,
     "metadata": {},
     "output_type": "execute_result"
    },
    {
     "data": {
      "image/png": "[encoded data removed]",
      "text/plain": [
       "<Figure size 1080x648 with 1 Axes>"
      ]
     },
     "metadata": {
      "needs_background": "light"
     },
     "output_type": "display_data"
    }
   ],
   "source": [
    "# Plot the values\n",
    "fig, ax = plt.subplots(figsize=(15,9))\n",
    "ax.plot(100. * out_s / in_s, out_s / out_l)\n",
    "\n",
    "# Dots every 5 seconds\n",
    "ax.scatter(100. * out_s[::100] / in_s, out_s[::100] / out_l[::100])\n",
    "\n",
    "# Label the axes\n",
    "ax.set_xlabel('Extraction Yield (%)')\n",
    "ax.set_ylabel('Total Dissolved Solids (mg/ml)')"
   ]
  },
  {
   "cell_type": "markdown",
   "id": "21a46ad4",
   "metadata": {},
   "source": [
    "# References\n",
    "\n",
    "[1] Moroney et al., 2019"
   ]
  }
 ],
 "metadata": {
  "kernelspec": {
   "display_name": "Python 3",
   "language": "python",
   "name": "python3"
  },
  "language_info": {
   "codemirror_mode": {
    "name": "ipython",
    "version": 3
   },
   "file_extension": ".py",
   "mimetype": "text/x-python",
   "name": "python",
   "nbconvert_exporter": "python",
   "pygments_lexer": "ipython3",
   "version": "3.9.5"
  }
 },
 "nbformat": 4,
 "nbformat_minor": 5
}
